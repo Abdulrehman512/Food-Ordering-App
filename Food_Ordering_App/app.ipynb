{
 "cells": [
  {
   "cell_type": "code",
   "execution_count": 35,
   "metadata": {},
   "outputs": [
    {
     "data": {
      "text/plain": [
       "str"
      ]
     },
     "execution_count": 35,
     "metadata": {},
     "output_type": "execute_result"
    }
   ],
   "source": [
    "type(input(\"Please Give some Number:\"))"
   ]
  },
  {
   "cell_type": "code",
   "execution_count": 36,
   "metadata": {},
   "outputs": [],
   "source": [
    "restaurant_name = \"Buddies Inn\"\n",
    "\n",
    "menu = menu = {\n",
    "    'SKU1': {'name': 'Burger', 'price': 5.99},\n",
    "    'SKU2': {'name': 'Pizza', 'price': 8.99},\n",
    "    'SKU3': {'name': 'Pasta', 'price': 7.49},\n",
    "    'SKU4': {'name': 'Salad', 'price': 4.99},\n",
    "    'SKU5': {'name': 'Steak', 'price': 12.99},\n",
    "    'SKU6': {'name': 'Sushi', 'price': 10.49},\n",
    "    'SKU7': {'name': 'Chicken Wings', 'price': 6.99},\n",
    "    'SKU8': {'name': 'Sandwich', 'price': 4.49},\n",
    "    'SKU9': {'name': 'Tacos', 'price': 5.49},\n",
    "    'SKU10': {'name': 'Ice Cream', 'price': 3.99}\n",
    "}\n",
    "\n",
    "cart = {}\n",
    "\n",
    "actions = {\n",
    "    \"1\" : \"Add Items to the Cart\",\n",
    "    \"2\" : \"Remove Items to the Cart\",\n",
    "    \"3\" : \"Modify Items quantity in the Cart\",\n",
    "    \"4\" : \"View Items in the Cart\",\n",
    "    \"5\" : \"Checkout\",\n",
    "    \"6\" : \"Exit\"\n",
    "           }\n",
    "\n",
    "gst = 0.07"
   ]
  },
  {
   "cell_type": "code",
   "execution_count": 37,
   "metadata": {},
   "outputs": [
    {
     "name": "stdout",
     "output_type": "stream",
     "text": [
      "1 Burger 5.99\n",
      "2 Pizza 8.99\n",
      "3 Pasta 7.49\n",
      "4 Salad 4.99\n",
      "5 Steak 12.99\n",
      "6 Sushi 10.49\n",
      "7 Chicken Wings 6.99\n",
      "8 Sandwich 4.49\n",
      "9 Tacos 5.49\n",
      "10 Ice Cream 3.99\n"
     ]
    }
   ],
   "source": [
    "for sku in menu:\n",
    "    stock = sku[3:]\n",
    "    name = menu[sku][\"name\"]\n",
    "    price = menu[sku][\"price\"]\n",
    "\n",
    "    print(stock, name, price)"
   ]
  },
  {
   "cell_type": "code",
   "execution_count": 38,
   "metadata": {},
   "outputs": [
    {
     "name": "stdout",
     "output_type": "stream",
     "text": [
      "(1) Burger $5.99 \n",
      "(2) Pizza $8.99 \n",
      "(3) Pasta $7.49 \n",
      "(4) Salad $4.99 \n",
      "(5) Steak $12.99 \n",
      "(6) Sushi $10.49 \n",
      "(7) Chicken Wings $6.99 \n",
      "(8) Sandwich $4.49 \n",
      "(9) Tacos $5.49 \n",
      "(10) Ice Cream $3.99 \n"
     ]
    }
   ],
   "source": [
    "for sku in menu:\n",
    "    stock = sku[3:]\n",
    "    name = menu[sku][\"name\"]\n",
    "    price = menu[sku][\"price\"]\n",
    "\n",
    "    print(f\"({stock}) {name} ${price} \")"
   ]
  },
  {
   "cell_type": "code",
   "execution_count": 39,
   "metadata": {},
   "outputs": [],
   "source": [
    "def display_menu():\n",
    "    \"\"\"Displays all menu items SKU's , names and prices \"\"\"\n",
    "    print(\"\\n *** Buddies Inn Menu *** \\n\")\n",
    "\n",
    "    for sku in menu:\n",
    "        stock = sku[3:]\n",
    "        name = menu[sku][\"name\"]\n",
    "        price = menu[sku][\"price\"]\n",
    "\n",
    "        print(f\" ({stock}) {name} ${price}\")\n",
    "    print(\"\\n\")    "
   ]
  },
  {
   "cell_type": "code",
   "execution_count": 40,
   "metadata": {},
   "outputs": [
    {
     "name": "stdout",
     "output_type": "stream",
     "text": [
      "\n",
      " *** Buddies Inn Menu *** \n",
      "\n",
      " (1) Burger $5.99\n",
      " (2) Pizza $8.99\n",
      " (3) Pasta $7.49\n",
      " (4) Salad $4.99\n",
      " (5) Steak $12.99\n",
      " (6) Sushi $10.49\n",
      " (7) Chicken Wings $6.99\n",
      " (8) Sandwich $4.49\n",
      " (9) Tacos $5.49\n",
      " (10) Ice Cream $3.99\n",
      "\n",
      "\n"
     ]
    }
   ],
   "source": [
    "display_menu()"
   ]
  },
  {
   "cell_type": "code",
   "execution_count": 41,
   "metadata": {},
   "outputs": [
    {
     "data": {
      "text/plain": [
       "{}"
      ]
     },
     "execution_count": 41,
     "metadata": {},
     "output_type": "execute_result"
    }
   ],
   "source": [
    "cart"
   ]
  },
  {
   "cell_type": "code",
   "execution_count": 42,
   "metadata": {},
   "outputs": [],
   "source": [
    "order = \"SKU\" + \"3\""
   ]
  },
  {
   "cell_type": "code",
   "execution_count": 43,
   "metadata": {},
   "outputs": [],
   "source": [
    "# order"
   ]
  },
  {
   "cell_type": "code",
   "execution_count": 44,
   "metadata": {},
   "outputs": [
    {
     "data": {
      "text/plain": [
       "{'SKU1': {'name': 'Burger', 'price': 5.99},\n",
       " 'SKU2': {'name': 'Pizza', 'price': 8.99},\n",
       " 'SKU3': {'name': 'Pasta', 'price': 7.49},\n",
       " 'SKU4': {'name': 'Salad', 'price': 4.99},\n",
       " 'SKU5': {'name': 'Steak', 'price': 12.99},\n",
       " 'SKU6': {'name': 'Sushi', 'price': 10.49},\n",
       " 'SKU7': {'name': 'Chicken Wings', 'price': 6.99},\n",
       " 'SKU8': {'name': 'Sandwich', 'price': 4.49},\n",
       " 'SKU9': {'name': 'Tacos', 'price': 5.49},\n",
       " 'SKU10': {'name': 'Ice Cream', 'price': 3.99}}"
      ]
     },
     "execution_count": 44,
     "metadata": {},
     "output_type": "execute_result"
    }
   ],
   "source": [
    "menu"
   ]
  },
  {
   "cell_type": "code",
   "execution_count": 45,
   "metadata": {},
   "outputs": [],
   "source": [
    "d = {}\n",
    "\n",
    "d[\"item\"] = 1"
   ]
  },
  {
   "cell_type": "code",
   "execution_count": 46,
   "metadata": {},
   "outputs": [
    {
     "data": {
      "text/plain": [
       "{'item': 1}"
      ]
     },
     "execution_count": 46,
     "metadata": {},
     "output_type": "execute_result"
    }
   ],
   "source": [
    "d"
   ]
  },
  {
   "cell_type": "code",
   "execution_count": 47,
   "metadata": {},
   "outputs": [],
   "source": [
    "d[\"item\"] += 2"
   ]
  },
  {
   "cell_type": "code",
   "execution_count": 48,
   "metadata": {},
   "outputs": [
    {
     "data": {
      "text/plain": [
       "{'item': 3}"
      ]
     },
     "execution_count": 48,
     "metadata": {},
     "output_type": "execute_result"
    }
   ],
   "source": [
    "d"
   ]
  },
  {
   "cell_type": "code",
   "execution_count": 49,
   "metadata": {},
   "outputs": [
    {
     "data": {
      "text/plain": [
       "True"
      ]
     },
     "execution_count": 49,
     "metadata": {},
     "output_type": "execute_result"
    }
   ],
   "source": [
    "order in menu"
   ]
  },
  {
   "cell_type": "code",
   "execution_count": 50,
   "metadata": {},
   "outputs": [],
   "source": [
    "if order in menu:\n",
    "    if order in cart:\n",
    "        cart[order] +=1\n",
    "    else:\n",
    "        cart[order] = 1    "
   ]
  },
  {
   "cell_type": "code",
   "execution_count": 51,
   "metadata": {},
   "outputs": [],
   "source": [
    "order = \"SKU\" +\"15\""
   ]
  },
  {
   "cell_type": "code",
   "execution_count": 52,
   "metadata": {},
   "outputs": [],
   "source": [
    "# if order in menu:\n",
    "#     if order not in cart:\n",
    "#         cart[order] = 1\n",
    "#     else:\n",
    "#         cart[order] += 1\n",
    "        \n",
    "#     print(\"Item has been added in your cart\")\n",
    "    \n",
    "# else:\n",
    "#     print(\"Sorry! This item is not available\")"
   ]
  },
  {
   "cell_type": "code",
   "execution_count": 53,
   "metadata": {},
   "outputs": [
    {
     "data": {
      "text/plain": [
       "{'SKU3': 1}"
      ]
     },
     "execution_count": 53,
     "metadata": {},
     "output_type": "execute_result"
    }
   ],
   "source": [
    "cart"
   ]
  },
  {
   "cell_type": "code",
   "execution_count": 54,
   "metadata": {},
   "outputs": [],
   "source": [
    "def add_to_cart(sku, quantity=1):\n",
    "    \"\"\"\n",
    "     Add an item and its quantity to cart\n",
    "\n",
    "    :param1 string sku: The input SKU number being ordered\n",
    "    :param2 int quantity: The input qunatity being ordered\n",
    "       \"\"\"\n",
    "    if sku in menu:\n",
    "        if sku not in cart:\n",
    "            cart[sku] = quantity\n",
    "        else:\n",
    "            cart[sku] += quantity\n",
    "        print(f\"Added {quantity} {menu[sku]['name']} in your cart\")\n",
    "\n",
    "    else:\n",
    "        print(\"Sorry! The ordered item is not available in the menu\")\n",
    "    \n"
   ]
  },
  {
   "cell_type": "code",
   "execution_count": 55,
   "metadata": {},
   "outputs": [
    {
     "name": "stdout",
     "output_type": "stream",
     "text": [
      "Added 5 Chicken Wings in your cart\n"
     ]
    },
    {
     "data": {
      "text/plain": [
       "{'SKU3': 1, 'SKU7': 5}"
      ]
     },
     "execution_count": 55,
     "metadata": {},
     "output_type": "execute_result"
    }
   ],
   "source": [
    "add_to_cart(\"SKU7\",5)\n",
    "cart\n"
   ]
  },
  {
   "cell_type": "code",
   "execution_count": 56,
   "metadata": {},
   "outputs": [
    {
     "data": {
      "text/plain": [
       "{'1': 'Add Items to the Cart',\n",
       " '2': 'Remove Items to the Cart',\n",
       " '3': 'Modify Items quantity in the Cart',\n",
       " '4': 'View Items in the Cart',\n",
       " '5': 'Checkout',\n",
       " '6': 'Exit'}"
      ]
     },
     "execution_count": 56,
     "metadata": {},
     "output_type": "execute_result"
    }
   ],
   "source": [
    "actions"
   ]
  },
  {
   "cell_type": "code",
   "execution_count": 57,
   "metadata": {},
   "outputs": [
    {
     "data": {
      "text/plain": [
       "{'SKU3': 1, 'SKU7': 5}"
      ]
     },
     "execution_count": 57,
     "metadata": {},
     "output_type": "execute_result"
    }
   ],
   "source": [
    "cart"
   ]
  },
  {
   "cell_type": "code",
   "execution_count": 58,
   "metadata": {},
   "outputs": [],
   "source": [
    "removed_item = \"SKU7\""
   ]
  },
  {
   "cell_type": "code",
   "execution_count": 59,
   "metadata": {},
   "outputs": [
    {
     "data": {
      "text/plain": [
       "True"
      ]
     },
     "execution_count": 59,
     "metadata": {},
     "output_type": "execute_result"
    }
   ],
   "source": [
    "removed_item in cart"
   ]
  },
  {
   "cell_type": "code",
   "execution_count": 60,
   "metadata": {},
   "outputs": [
    {
     "name": "stdout",
     "output_type": "stream",
     "text": [
      "Removed item from the cart\n"
     ]
    }
   ],
   "source": [
    "if removed_item in cart:\n",
    "    removed = cart.pop(removed_item)\n",
    "    print(f\"Removed item from the cart\")\n",
    "else:\n",
    "    print(\"Sorry! item is not available in the cart\")    "
   ]
  },
  {
   "cell_type": "code",
   "execution_count": 61,
   "metadata": {},
   "outputs": [
    {
     "name": "stdout",
     "output_type": "stream",
     "text": [
      "Sorry! item is not available in the cart\n"
     ]
    }
   ],
   "source": [
    "if removed_item in cart:\n",
    "    removed = cart.pop(removed_item)\n",
    "    print(f\"Removed item from the cart\")\n",
    "else:\n",
    "    print(\"Sorry! item is not available in the cart\") "
   ]
  },
  {
   "cell_type": "code",
   "execution_count": 62,
   "metadata": {},
   "outputs": [],
   "source": [
    "removed_item = \"SKU3\""
   ]
  },
  {
   "cell_type": "code",
   "execution_count": 63,
   "metadata": {},
   "outputs": [],
   "source": [
    "def remove_from_cart(sku):\n",
    "    \"\"\"\n",
    "     Remove an item from the cart\n",
    "    \n",
    "    :param string sku: The input SKU number to remove from the cart.\n",
    "    \"\"\"\n",
    "    if sku in cart:\n",
    "        removed_val = cart.pop(sku)\n",
    "        print(f\"Removed {menu[sku]['name']} from the cart.\")\n",
    "    else:\n",
    "        print(f\"Sorry! This item is not available in the cart\")    \n"
   ]
  },
  {
   "cell_type": "code",
   "execution_count": 64,
   "metadata": {},
   "outputs": [
    {
     "name": "stdout",
     "output_type": "stream",
     "text": [
      "Removed Pasta from the cart.\n"
     ]
    }
   ],
   "source": [
    "remove_from_cart(removed_item)"
   ]
  },
  {
   "cell_type": "code",
   "execution_count": 65,
   "metadata": {},
   "outputs": [
    {
     "name": "stdout",
     "output_type": "stream",
     "text": [
      "Sorry! This item is not available in the cart\n"
     ]
    }
   ],
   "source": [
    "remove_from_cart(removed_item)"
   ]
  },
  {
   "cell_type": "code",
   "execution_count": 66,
   "metadata": {},
   "outputs": [
    {
     "data": {
      "text/plain": [
       "{'1': 'Add Items to the Cart',\n",
       " '2': 'Remove Items to the Cart',\n",
       " '3': 'Modify Items quantity in the Cart',\n",
       " '4': 'View Items in the Cart',\n",
       " '5': 'Checkout',\n",
       " '6': 'Exit'}"
      ]
     },
     "execution_count": 66,
     "metadata": {},
     "output_type": "execute_result"
    }
   ],
   "source": [
    "actions"
   ]
  },
  {
   "cell_type": "code",
   "execution_count": 67,
   "metadata": {},
   "outputs": [],
   "source": [
    "def modify_cart(sku, quantity):\n",
    "    \"\"\"\n",
    "    Modify an item's qunatity in the cart\n",
    "    \n",
    "    :param1 string sku: The input SKU number being ordered\n",
    "    :param2 int qunatity: The input new quantity to be modified for SKU.\n",
    "    \"\"\"\n",
    "    \n",
    "    if sku in cart:\n",
    "        if quantity > 0:\n",
    "            cart[sku] = quantity\n",
    "            print(f\"Modified {menu[sku]['name']}\\'s quantity to {quantity}\")\n",
    "        else:\n",
    "            remove_from_cart(sku)\n",
    "    else:      \n",
    "        print(\"Sorry! This item is not available in the cart\")\n"
   ]
  },
  {
   "cell_type": "code",
   "execution_count": 68,
   "metadata": {},
   "outputs": [],
   "source": [
    "cart[\"SKU3\"] = 7\n",
    "cart[\"SKU10\"] = 5"
   ]
  },
  {
   "cell_type": "code",
   "execution_count": 69,
   "metadata": {},
   "outputs": [
    {
     "data": {
      "text/plain": [
       "{'SKU3': 7, 'SKU10': 5}"
      ]
     },
     "execution_count": 69,
     "metadata": {},
     "output_type": "execute_result"
    }
   ],
   "source": [
    "cart"
   ]
  },
  {
   "cell_type": "code",
   "execution_count": 70,
   "metadata": {},
   "outputs": [
    {
     "name": "stdout",
     "output_type": "stream",
     "text": [
      "Modified Pasta's quantity to 4\n"
     ]
    }
   ],
   "source": [
    "modify_cart(\"SKU3\", 4)"
   ]
  },
  {
   "cell_type": "code",
   "execution_count": 71,
   "metadata": {},
   "outputs": [
    {
     "data": {
      "text/plain": [
       "{'SKU3': 4, 'SKU10': 5}"
      ]
     },
     "execution_count": 71,
     "metadata": {},
     "output_type": "execute_result"
    }
   ],
   "source": [
    "cart"
   ]
  },
  {
   "cell_type": "code",
   "execution_count": 72,
   "metadata": {},
   "outputs": [
    {
     "name": "stdout",
     "output_type": "stream",
     "text": [
      "Removed Pasta from the cart.\n"
     ]
    }
   ],
   "source": [
    "modify_cart(\"SKU3\", 0)"
   ]
  },
  {
   "cell_type": "code",
   "execution_count": 73,
   "metadata": {},
   "outputs": [
    {
     "name": "stdout",
     "output_type": "stream",
     "text": [
      "Removed Ice Cream from the cart.\n"
     ]
    }
   ],
   "source": [
    "modify_cart(\"SKU10\", 0)"
   ]
  },
  {
   "cell_type": "code",
   "execution_count": 74,
   "metadata": {},
   "outputs": [
    {
     "name": "stdout",
     "output_type": "stream",
     "text": [
      "Sorry! This item is not available in the cart\n"
     ]
    }
   ],
   "source": [
    "modify_cart(\"SKU15\", 3)"
   ]
  },
  {
   "cell_type": "code",
   "execution_count": 75,
   "metadata": {},
   "outputs": [],
   "source": [
    "cart[\"SKU3\"] = 7\n",
    "cart[\"SKU10\"] = 5"
   ]
  },
  {
   "cell_type": "code",
   "execution_count": 76,
   "metadata": {},
   "outputs": [
    {
     "data": {
      "text/plain": [
       "{'SKU3': 7, 'SKU10': 5}"
      ]
     },
     "execution_count": 76,
     "metadata": {},
     "output_type": "execute_result"
    }
   ],
   "source": [
    "cart"
   ]
  },
  {
   "cell_type": "code",
   "execution_count": 77,
   "metadata": {},
   "outputs": [
    {
     "name": "stdout",
     "output_type": "stream",
     "text": [
      "7 x Pasta\n",
      "5 x Ice Cream\n",
      "Total: $ 77.45\n"
     ]
    }
   ],
   "source": [
    "subtotal = 0\n",
    "\n",
    "for sku in cart:\n",
    "    quantity = cart[sku]\n",
    "    price = menu[sku]['price']\n",
    "    \n",
    "    subtotal+= quantity*price\n",
    "    \n",
    "    print(f\"{quantity} x {menu[sku]['name']}\")\n",
    "          \n",
    "tax = subtotal*gst\n",
    "    \n",
    "total = subtotal + tax\n",
    "          \n",
    "print(\"Total: $\", round(total,2))"
   ]
  },
  {
   "cell_type": "code",
   "execution_count": 78,
   "metadata": {},
   "outputs": [
    {
     "name": "stdout",
     "output_type": "stream",
     "text": [
      "7 x Pasta\n",
      "5 x Ice Cream\n"
     ]
    }
   ],
   "source": [
    "subtotal = 0\n",
    "\n",
    "for sku in cart:\n",
    "    quantity = cart[sku]\n",
    "    price = menu[sku]['price']\n",
    "    \n",
    "    subtotal+= quantity*price\n",
    "    \n",
    "    print(f\"{quantity} x {menu[sku]['name']}\")\n",
    "          \n",
    "tax = subtotal*gst\n",
    "    \n",
    "total = subtotal + tax"
   ]
  },
  {
   "cell_type": "code",
   "execution_count": 79,
   "metadata": {},
   "outputs": [],
   "source": [
    "def view_cart():\n",
    "    \"Display the menu names, quatity and total amount\"\n",
    "    \n",
    "    print(\"\\n***Your Order***\\n\")\n",
    "    subtotal = 0\n",
    "\n",
    "    for sku in cart:\n",
    "        quantity = cart[sku]\n",
    "        price = menu[sku]['price']\n",
    "\n",
    "        subtotal+= quantity*price\n",
    "\n",
    "        print(f\"{quantity} x {menu[sku]['name']}\")\n",
    "\n",
    "    tax = subtotal*gst\n",
    "\n",
    "    total = subtotal + tax\n",
    "    print(f\"Total: ${total: .2f}\")\n",
    "    print(\"\\n\")"
   ]
  },
  {
   "cell_type": "code",
   "execution_count": 80,
   "metadata": {},
   "outputs": [
    {
     "name": "stdout",
     "output_type": "stream",
     "text": [
      "\n",
      "***Your Order***\n",
      "\n",
      "7 x Pasta\n",
      "5 x Ice Cream\n",
      "Total: $ 77.45\n",
      "\n",
      "\n"
     ]
    }
   ],
   "source": [
    "view_cart()"
   ]
  },
  {
   "cell_type": "markdown",
   "metadata": {},
   "source": [
    "## Updated Code"
   ]
  },
  {
   "cell_type": "code",
   "execution_count": 81,
   "metadata": {},
   "outputs": [],
   "source": [
    "rest_name = \"Buddies Inn\"\n",
    "\n",
    "menu = {\n",
    "    'SKU1': {'name': 'Burger', 'price': 5.99},\n",
    "    'SKU2': {'name': 'Pizza', 'price': 8.99},\n",
    "    'SKU3': {'name': 'Pasta', 'price': 7.49},\n",
    "    'SKU4': {'name': 'Salad', 'price': 4.99},\n",
    "    'SKU5': {'name': 'Steak', 'price': 12.99},\n",
    "    'SKU6': {'name': 'Sushi', 'price': 10.49},\n",
    "    'SKU7': {'name': 'Chicken Wings', 'price': 6.99},\n",
    "    'SKU8': {'name': 'Sandwich', 'price': 4.49},\n",
    "    'SKU9': {'name': 'Tacos', 'price': 5.49},\n",
    "    'SKU10': {'name': 'Ice Cream', 'price': 3.99}\n",
    "}\n",
    "\n",
    "cart = {}\n",
    "\n",
    "actions = {\"1\":\"Add item to the cart\",\n",
    "           \"2\":\"Remove item from the cart\",\n",
    "            \"3\":\"Modify item's quantity in the cart\",\n",
    "            \"4\":\"View items in the cart\",\n",
    "            \"5\":\"Checkout\",\n",
    "            \"6\":\"Exit\",\n",
    "          }\n",
    "\n",
    "gst = 0.07"
   ]
  },
  {
   "cell_type": "code",
   "execution_count": 82,
   "metadata": {},
   "outputs": [],
   "source": [
    "def display_menu():\n",
    "    \n",
    "    \"\"\"Displays all menu item SKUs, names and prices\"\"\"\n",
    "    \n",
    "    print(\"\\n***Buddies Inn's Menu***\\n\")\n",
    "    \n",
    "    for sku in menu:\n",
    "        stock = sku[3:]\n",
    "        name = menu[sku][\"name\"]\n",
    "        price = menu[sku][\"price\"]\n",
    "\n",
    "        print(f\"({stock}) {name} ${price}\")\n",
    "    print(\"\\n\")"
   ]
  },
  {
   "cell_type": "code",
   "execution_count": 83,
   "metadata": {},
   "outputs": [],
   "source": [
    "def add_to_cart(sku, quantity = 1):\n",
    "    \"\"\"\n",
    "    Add an item and its quantity to the cart\n",
    "    \n",
    "    :param1 string sku: The input SKU number being ordered\n",
    "    :param2 int quantity: The input qunatity being ordered\n",
    "    \"\"\"\n",
    "    if sku in menu:\n",
    "        if sku not in cart:\n",
    "            cart[sku] = quantity\n",
    "        else:\n",
    "            cart[sku] += quantity\n",
    "            \n",
    "        print(f\"Added {quantity} {menu[sku]['name']} in your cart\")\n",
    "            \n",
    "    else:\n",
    "        print(\"Sorry! Ordered item is not available in the menu\")"
   ]
  },
  {
   "cell_type": "code",
   "execution_count": 84,
   "metadata": {},
   "outputs": [],
   "source": [
    "def remove_from_cart(sku):\n",
    "    \n",
    "    \"\"\"\n",
    "    Remove an item from the cart\n",
    "    \n",
    "    :param string sku: The input SKU number to remove from the cart.\n",
    "    \n",
    "    \"\"\"\n",
    "    if sku in cart:\n",
    "        removed_val = cart.pop(sku)\n",
    "        print(f\"Removed {menu[sku]['name']} from the cart.\")\n",
    "    else:\n",
    "        print(f\"Sorry! This item in not available in the cart\")"
   ]
  },
  {
   "cell_type": "code",
   "execution_count": 85,
   "metadata": {},
   "outputs": [],
   "source": [
    "def modify_cart(sku, quantity):\n",
    "    \"\"\"\n",
    "    Modify an item's qunatity in the cart\n",
    "    \n",
    "    :param1 string sku: The input SKU number being ordered\n",
    "    :param2 int qunatity: The input new quantity to be modified for SKU.\n",
    "    \"\"\"\n",
    "    \n",
    "    if sku in cart:\n",
    "        if quantity > 0:\n",
    "            cart[sku] = quantity\n",
    "            print(f\"Modified {menu[sku]['name']}\\'s quantity to {quantity}\")\n",
    "        else:\n",
    "            remove_from_cart(sku)\n",
    "    else:      \n",
    "        print(\"Sorry! This item is not available in the cart\")"
   ]
  },
  {
   "cell_type": "code",
   "execution_count": 86,
   "metadata": {},
   "outputs": [],
   "source": [
    "def view_cart():\n",
    "    \"Display the menu names, quatity and total amount\"\n",
    "    \n",
    "    print(\"\\n***Your Order***\\n\")\n",
    "    subtotal = 0\n",
    "\n",
    "    for sku in cart:\n",
    "        quantity = cart[sku]\n",
    "        price = menu[sku]['price']\n",
    "\n",
    "        subtotal+= quantity*price\n",
    "\n",
    "        print(f\"{quantity} x {menu[sku]['name']}\")\n",
    "\n",
    "    tax = subtotal*gst\n",
    "\n",
    "    total = subtotal + tax\n",
    "    print(f\"Total: ${total: .2f}\")\n",
    "    print(\"\\n\")"
   ]
  },
  {
   "cell_type": "code",
   "execution_count": 87,
   "metadata": {},
   "outputs": [],
   "source": [
    "def checkout():\n",
    "    \"\"\"\n",
    "    Display the subtotal info for the user to checkout\n",
    "    \"\"\"\n",
    "    print(\"\\n***Checkout***\\n\")\n",
    "    \n",
    "    view_cart()\n",
    "    \n",
    "    print(\"Thank you for the order! Goodbye!\")\n",
    "    print(\"\\n\")"
   ]
  },
  {
   "cell_type": "code",
   "execution_count": 88,
   "metadata": {},
   "outputs": [
    {
     "data": {
      "text/plain": [
       "{'1': 'Add item to the cart',\n",
       " '2': 'Remove item from the cart',\n",
       " '3': \"Modify item's quantity in the cart\",\n",
       " '4': 'View items in the cart',\n",
       " '5': 'Checkout',\n",
       " '6': 'Exit'}"
      ]
     },
     "execution_count": 88,
     "metadata": {},
     "output_type": "execute_result"
    }
   ],
   "source": [
    "actions"
   ]
  },
  {
   "cell_type": "code",
   "execution_count": 89,
   "metadata": {},
   "outputs": [
    {
     "name": "stdout",
     "output_type": "stream",
     "text": [
      "\n",
      "***Please Choose your options***\n",
      "\n",
      "Add item to the cart\n",
      "Remove item from the cart\n",
      "Modify item's quantity in the cart\n",
      "View items in the cart\n",
      "Checkout\n",
      "Exit\n"
     ]
    }
   ],
   "source": [
    "print(\"\\n***Please Choose your options***\\n\")\n",
    "\n",
    "for action in actions:\n",
    "    details = actions[action]\n",
    "    print(details)"
   ]
  },
  {
   "cell_type": "code",
   "execution_count": 90,
   "metadata": {},
   "outputs": [
    {
     "name": "stdout",
     "output_type": "stream",
     "text": [
      "\n",
      "***Please Choose your options***\n",
      "\n",
      "(1) Add item to the cart\n",
      "(2) Remove item from the cart\n",
      "(3) Modify item's quantity in the cart\n",
      "(4) View items in the cart\n",
      "(5) Checkout\n",
      "(6) Exit\n"
     ]
    }
   ],
   "source": [
    "print(\"\\n***Please Choose your options***\\n\")\n",
    "\n",
    "for action in actions:\n",
    "    details = actions[action]\n",
    "    print(f\"({action}) {details}\")"
   ]
  },
  {
   "cell_type": "code",
   "execution_count": 91,
   "metadata": {},
   "outputs": [],
   "source": [
    "def cust_actions():\n",
    "    print(\"\\n***Please Choose your option***\\n\")\n",
    "    for action in actions:\n",
    "        details = actions[action]\n",
    "        print(f\"({action}) {details}\")"
   ]
  },
  {
   "cell_type": "code",
   "execution_count": 92,
   "metadata": {},
   "outputs": [
    {
     "name": "stdout",
     "output_type": "stream",
     "text": [
      "\n",
      "***Please Choose your option***\n",
      "\n",
      "(1) Add item to the cart\n",
      "(2) Remove item from the cart\n",
      "(3) Modify item's quantity in the cart\n",
      "(4) View items in the cart\n",
      "(5) Checkout\n",
      "(6) Exit\n"
     ]
    }
   ],
   "source": [
    "cust_actions()"
   ]
  },
  {
   "cell_type": "code",
   "execution_count": 93,
   "metadata": {},
   "outputs": [],
   "source": [
    "def order():\n",
    "    \"\"\"\n",
    "    It will take order from the customers\n",
    "    \"\"\"\n",
    "    \n",
    "    print(f\"Welcome to the {rest_name}!\")\n",
    "    \n",
    "    ordering = True\n",
    "    \n",
    "    while ordering:\n",
    "        cust_actions()\n",
    "        break"
   ]
  },
  {
   "cell_type": "code",
   "execution_count": 94,
   "metadata": {},
   "outputs": [
    {
     "name": "stdout",
     "output_type": "stream",
     "text": [
      "Welcome to the Buddies Inn!\n",
      "\n",
      "***Please Choose your option***\n",
      "\n",
      "(1) Add item to the cart\n",
      "(2) Remove item from the cart\n",
      "(3) Modify item's quantity in the cart\n",
      "(4) View items in the cart\n",
      "(5) Checkout\n",
      "(6) Exit\n"
     ]
    }
   ],
   "source": [
    "order()"
   ]
  },
  {
   "cell_type": "code",
   "execution_count": 95,
   "metadata": {},
   "outputs": [],
   "source": [
    "def order():\n",
    "    \"\"\"\n",
    "    It will take order from the customers\n",
    "    \"\"\"\n",
    "    \n",
    "    print(f\"Welcome to the {rest_name}!\")\n",
    "    \n",
    "    ordering = True\n",
    "    \n",
    "    while ordering:\n",
    "        cust_actions()\n",
    "        response = input(\"Please enter the desired option: \")\n",
    "        if response == \"1\":\n",
    "            display_menu()\n",
    "            break"
   ]
  },
  {
   "cell_type": "code",
   "execution_count": 96,
   "metadata": {},
   "outputs": [
    {
     "name": "stdout",
     "output_type": "stream",
     "text": [
      "Welcome to the Buddies Inn!\n",
      "\n",
      "***Please Choose your option***\n",
      "\n",
      "(1) Add item to the cart\n",
      "(2) Remove item from the cart\n",
      "(3) Modify item's quantity in the cart\n",
      "(4) View items in the cart\n",
      "(5) Checkout\n",
      "(6) Exit\n",
      "\n",
      "***Buddies Inn's Menu***\n",
      "\n",
      "(1) Burger $5.99\n",
      "(2) Pizza $8.99\n",
      "(3) Pasta $7.49\n",
      "(4) Salad $4.99\n",
      "(5) Steak $12.99\n",
      "(6) Sushi $10.49\n",
      "(7) Chicken Wings $6.99\n",
      "(8) Sandwich $4.49\n",
      "(9) Tacos $5.49\n",
      "(10) Ice Cream $3.99\n",
      "\n",
      "\n"
     ]
    }
   ],
   "source": [
    "order()"
   ]
  },
  {
   "cell_type": "code",
   "execution_count": 97,
   "metadata": {},
   "outputs": [
    {
     "name": "stdout",
     "output_type": "stream",
     "text": [
      "Sorry! Ordered item is not available in the menu\n"
     ]
    }
   ],
   "source": [
    "add_to_cart(\"1\", quantity = 1)"
   ]
  },
  {
   "cell_type": "code",
   "execution_count": 98,
   "metadata": {},
   "outputs": [
    {
     "data": {
      "text/plain": [
       "{}"
      ]
     },
     "execution_count": 98,
     "metadata": {},
     "output_type": "execute_result"
    }
   ],
   "source": [
    "cart"
   ]
  },
  {
   "cell_type": "code",
   "execution_count": 99,
   "metadata": {},
   "outputs": [
    {
     "name": "stdout",
     "output_type": "stream",
     "text": [
      "Added 1 Burger in your cart\n"
     ]
    }
   ],
   "source": [
    "add_to_cart(\"SKU1\", quantity = 1)     "
   ]
  },
  {
   "cell_type": "code",
   "execution_count": 100,
   "metadata": {},
   "outputs": [
    {
     "data": {
      "text/plain": [
       "{'SKU1': 1}"
      ]
     },
     "execution_count": 100,
     "metadata": {},
     "output_type": "execute_result"
    }
   ],
   "source": [
    "cart"
   ]
  },
  {
   "cell_type": "code",
   "execution_count": 101,
   "metadata": {},
   "outputs": [],
   "source": [
    "def order():\n",
    "    \"\"\"\n",
    "    It will take order from the customers\n",
    "    \"\"\"\n",
    "    \n",
    "    print(f\"Welcome to the {rest_name}!\")\n",
    "    \n",
    "    ordering = True\n",
    "    \n",
    "    while ordering:\n",
    "        cust_actions()\n",
    "        response = input(\"Please enter the desired option: \")\n",
    "        if response == \"1\": # Add item to the cart\n",
    "            display_menu()\n",
    "            sku_prompt = \"Please enter the meal number for the menu item you want to order: \"\n",
    "            quantity_prompt = \"Please enter the quantity for the menu item you want to order[Defaualt 1]: \"\n",
    "            add_to_cart(sku, quantity = 1)\n",
    "            break"
   ]
  },
  {
   "cell_type": "code",
   "execution_count": 102,
   "metadata": {},
   "outputs": [],
   "source": [
    "def get_sku_and_quantity(sku_prompt, quantity_prompt):\n",
    "    sku_num = input(sku_prompt)\n",
    "    sku = \"SKU\"+sku_num\n",
    "    \n",
    "    qty = input(quantity_prompt)\n",
    "    if not qty.isdigit():\n",
    "        qty = 1\n",
    "    else:\n",
    "        qty = int(qty)\n",
    "    \n",
    "    return sku, qty"
   ]
  },
  {
   "cell_type": "code",
   "execution_count": 103,
   "metadata": {},
   "outputs": [
    {
     "data": {
      "text/plain": [
       "True"
      ]
     },
     "execution_count": 103,
     "metadata": {},
     "output_type": "execute_result"
    }
   ],
   "source": [
    "\"1\".isdigit()"
   ]
  },
  {
   "cell_type": "code",
   "execution_count": 104,
   "metadata": {},
   "outputs": [
    {
     "data": {
      "text/plain": [
       "('SKU1', 1)"
      ]
     },
     "execution_count": 104,
     "metadata": {},
     "output_type": "execute_result"
    }
   ],
   "source": [
    "sku_prompt = \"Please enter the meal number for the menu item you want to order: \"\n",
    "quantity_prompt = \"Please enter the quantity for the menu item you want to order: \"\n",
    "\n",
    "get_sku_and_quantity(sku_prompt, quantity_prompt)"
   ]
  },
  {
   "cell_type": "code",
   "execution_count": 105,
   "metadata": {},
   "outputs": [
    {
     "name": "stdout",
     "output_type": "stream",
     "text": [
      "Welcome to the Buddies Inn!\n",
      "\n",
      "***Please Choose your option***\n",
      "\n",
      "(1) Add item to the cart\n",
      "(2) Remove item from the cart\n",
      "(3) Modify item's quantity in the cart\n",
      "(4) View items in the cart\n",
      "(5) Checkout\n",
      "(6) Exit\n",
      "\n",
      "***Please Choose your option***\n",
      "\n",
      "(1) Add item to the cart\n",
      "(2) Remove item from the cart\n",
      "(3) Modify item's quantity in the cart\n",
      "(4) View items in the cart\n",
      "(5) Checkout\n",
      "(6) Exit\n",
      "\n",
      "***Please Choose your option***\n",
      "\n",
      "(1) Add item to the cart\n",
      "(2) Remove item from the cart\n",
      "(3) Modify item's quantity in the cart\n",
      "(4) View items in the cart\n",
      "(5) Checkout\n",
      "(6) Exit\n",
      "\n",
      "***Please Choose your option***\n",
      "\n",
      "(1) Add item to the cart\n",
      "(2) Remove item from the cart\n",
      "(3) Modify item's quantity in the cart\n",
      "(4) View items in the cart\n",
      "(5) Checkout\n",
      "(6) Exit\n",
      "\n",
      "***Buddies Inn's Menu***\n",
      "\n",
      "(1) Burger $5.99\n",
      "(2) Pizza $8.99\n",
      "(3) Pasta $7.49\n",
      "(4) Salad $4.99\n",
      "(5) Steak $12.99\n",
      "(6) Sushi $10.49\n",
      "(7) Chicken Wings $6.99\n",
      "(8) Sandwich $4.49\n",
      "(9) Tacos $5.49\n",
      "(10) Ice Cream $3.99\n",
      "\n",
      "\n",
      "Added 1 Ice Cream in your cart\n"
     ]
    }
   ],
   "source": [
    "order()"
   ]
  },
  {
   "cell_type": "code",
   "execution_count": 106,
   "metadata": {},
   "outputs": [
    {
     "data": {
      "text/plain": [
       "{'SKU1': 1, 'SKU10': 1}"
      ]
     },
     "execution_count": 106,
     "metadata": {},
     "output_type": "execute_result"
    }
   ],
   "source": [
    "cart"
   ]
  },
  {
   "cell_type": "code",
   "execution_count": 107,
   "metadata": {},
   "outputs": [],
   "source": [
    "def order():\n",
    "    \"\"\"\n",
    "    It will take order from the customers\n",
    "    \"\"\"\n",
    "    \n",
    "    print(f\"Welcome to the {rest_name}!\")\n",
    "    \n",
    "    ordering = True\n",
    "    \n",
    "    while ordering:\n",
    "        cust_actions()\n",
    "        response = input(\"Please enter the desired option: \")\n",
    "        if response == \"1\": # Add item to the cart\n",
    "            display_menu()\n",
    "            sku_prompt = \"Please enter the meal number for the menu item you want to order: \"\n",
    "            quantity_prompt = \"Please enter the quantity for the menu item you want to order [Defaualt 1]: \"\n",
    "            sku, quantity = get_sku_and_quantity(sku_prompt, quantity_prompt)\n",
    "            add_to_cart(sku, quantity)\n",
    "        elif response == \"2\": # Remove from the cart\n",
    "            display_menu()\n",
    "            sku_prompt = \"Please enter the meal number for the menu item you want to order: \"\n",
    "        \n",
    "            sku, quantity = get_sku_and_quantity(sku_prompt, quantity_prompt) \n",
    "            remove_from_cart(sku)\n",
    "            break"
   ]
  },
  {
   "cell_type": "code",
   "execution_count": 108,
   "metadata": {},
   "outputs": [
    {
     "name": "stdout",
     "output_type": "stream",
     "text": [
      "Welcome to the Buddies Inn!\n",
      "\n",
      "***Please Choose your option***\n",
      "\n",
      "(1) Add item to the cart\n",
      "(2) Remove item from the cart\n",
      "(3) Modify item's quantity in the cart\n",
      "(4) View items in the cart\n",
      "(5) Checkout\n",
      "(6) Exit\n",
      "\n",
      "***Buddies Inn's Menu***\n",
      "\n",
      "(1) Burger $5.99\n",
      "(2) Pizza $8.99\n",
      "(3) Pasta $7.49\n",
      "(4) Salad $4.99\n",
      "(5) Steak $12.99\n",
      "(6) Sushi $10.49\n",
      "(7) Chicken Wings $6.99\n",
      "(8) Sandwich $4.49\n",
      "(9) Tacos $5.49\n",
      "(10) Ice Cream $3.99\n",
      "\n",
      "\n"
     ]
    },
    {
     "ename": "UnboundLocalError",
     "evalue": "cannot access local variable 'quantity_prompt' where it is not associated with a value",
     "output_type": "error",
     "traceback": [
      "\u001b[1;31m---------------------------------------------------------------------------\u001b[0m",
      "\u001b[1;31mUnboundLocalError\u001b[0m                         Traceback (most recent call last)",
      "Cell \u001b[1;32mIn[108], line 1\u001b[0m\n\u001b[1;32m----> 1\u001b[0m order()\n",
      "Cell \u001b[1;32mIn[107], line 23\u001b[0m, in \u001b[0;36morder\u001b[1;34m()\u001b[0m\n\u001b[0;32m     20\u001b[0m display_menu()\n\u001b[0;32m     21\u001b[0m sku_prompt \u001b[38;5;241m=\u001b[39m \u001b[38;5;124m\"\u001b[39m\u001b[38;5;124mPlease enter the meal number for the menu item you want to order: \u001b[39m\u001b[38;5;124m\"\u001b[39m\n\u001b[1;32m---> 23\u001b[0m sku, quantity \u001b[38;5;241m=\u001b[39m get_sku_and_quantity(sku_prompt, quantity_prompt) \n\u001b[0;32m     24\u001b[0m remove_from_cart(sku)\n\u001b[0;32m     25\u001b[0m \u001b[38;5;28;01mbreak\u001b[39;00m\n",
      "\u001b[1;31mUnboundLocalError\u001b[0m: cannot access local variable 'quantity_prompt' where it is not associated with a value"
     ]
    }
   ],
   "source": [
    "order()"
   ]
  },
  {
   "cell_type": "code",
   "execution_count": 109,
   "metadata": {},
   "outputs": [
    {
     "name": "stdout",
     "output_type": "stream",
     "text": [
      "OK\n"
     ]
    }
   ],
   "source": [
    "num = 5\n",
    "\n",
    "if num:\n",
    "    print(\"OK\")"
   ]
  },
  {
   "cell_type": "code",
   "execution_count": 110,
   "metadata": {},
   "outputs": [],
   "source": [
    "num = None\n",
    "\n",
    "if num:\n",
    "    print(\"OK\")"
   ]
  },
  {
   "cell_type": "code",
   "execution_count": 111,
   "metadata": {},
   "outputs": [],
   "source": [
    "def get_sku_and_quantity(sku_prompt, quantity_prompt = None):\n",
    "    sku_num = input(sku_prompt)\n",
    "    sku = \"SKU\"+sku_num\n",
    "    \n",
    "    if quantity_prompt:\n",
    "        qty = input(quantity_prompt)\n",
    "        if not qty.isdigit():\n",
    "            qty = 1\n",
    "        else:\n",
    "            qty = int(qty)\n",
    "\n",
    "        return sku, qty\n",
    "    else:\n",
    "        return sku"
   ]
  },
  {
   "cell_type": "code",
   "execution_count": 112,
   "metadata": {},
   "outputs": [],
   "source": [
    "def order():\n",
    "    \"\"\"\n",
    "    It will take order from the customers\n",
    "    \"\"\"\n",
    "    \n",
    "    print(f\"Welcome to the {rest_name}!\")\n",
    "    \n",
    "    ordering = True\n",
    "    \n",
    "    while ordering:\n",
    "        cust_actions()\n",
    "        response = input(\"Please enter the desired option: \")\n",
    "        if response == \"1\": # Add item to the cart\n",
    "            display_menu()\n",
    "            sku_prompt = \"Please enter the meal number from the menu item you want to order: \"\n",
    "            quantity_prompt = \"Please enter the quantity for the menu item you want to order [Defaualt 1]: \"\n",
    "            sku, quantity = get_sku_and_quantity(sku_prompt, quantity_prompt)\n",
    "            add_to_cart(sku, quantity)\n",
    "        elif response == \"2\": # Remove from the cart\n",
    "            display_menu()\n",
    "            sku_prompt = \"Please enter the meal number from the menu item you want to remove: \"\n",
    "        \n",
    "            sku = get_sku_and_quantity(sku_prompt) \n",
    "            remove_from_cart(sku)\n",
    "            break"
   ]
  },
  {
   "cell_type": "code",
   "execution_count": 114,
   "metadata": {},
   "outputs": [
    {
     "name": "stdout",
     "output_type": "stream",
     "text": [
      "Welcome to the Buddies Inn!\n",
      "\n",
      "***Please Choose your option***\n",
      "\n",
      "(1) Add item to the cart\n",
      "(2) Remove item from the cart\n",
      "(3) Modify item's quantity in the cart\n",
      "(4) View items in the cart\n",
      "(5) Checkout\n",
      "(6) Exit\n",
      "\n",
      "***Buddies Inn's Menu***\n",
      "\n",
      "(1) Burger $5.99\n",
      "(2) Pizza $8.99\n",
      "(3) Pasta $7.49\n",
      "(4) Salad $4.99\n",
      "(5) Steak $12.99\n",
      "(6) Sushi $10.49\n",
      "(7) Chicken Wings $6.99\n",
      "(8) Sandwich $4.49\n",
      "(9) Tacos $5.49\n",
      "(10) Ice Cream $3.99\n",
      "\n",
      "\n",
      "Removed Burger from the cart.\n"
     ]
    }
   ],
   "source": [
    "order()"
   ]
  },
  {
   "cell_type": "code",
   "execution_count": 115,
   "metadata": {},
   "outputs": [
    {
     "name": "stdout",
     "output_type": "stream",
     "text": [
      "Welcome to the Buddies Inn!\n",
      "\n",
      "***Please Choose your option***\n",
      "\n",
      "(1) Add item to the cart\n",
      "(2) Remove item from the cart\n",
      "(3) Modify item's quantity in the cart\n",
      "(4) View items in the cart\n",
      "(5) Checkout\n",
      "(6) Exit\n",
      "\n",
      "***Buddies Inn's Menu***\n",
      "\n",
      "(1) Burger $5.99\n",
      "(2) Pizza $8.99\n",
      "(3) Pasta $7.49\n",
      "(4) Salad $4.99\n",
      "(5) Steak $12.99\n",
      "(6) Sushi $10.49\n",
      "(7) Chicken Wings $6.99\n",
      "(8) Sandwich $4.49\n",
      "(9) Tacos $5.49\n",
      "(10) Ice Cream $3.99\n",
      "\n",
      "\n",
      "Sorry! This item in not available in the cart\n"
     ]
    }
   ],
   "source": [
    "order()"
   ]
  },
  {
   "cell_type": "code",
   "execution_count": 116,
   "metadata": {},
   "outputs": [],
   "source": [
    "def order():\n",
    "    \"\"\"\n",
    "    It will take order from the customers\n",
    "    \"\"\"\n",
    "    \n",
    "    print(f\"Welcome to the {rest_name}!\")\n",
    "    \n",
    "    ordering = True\n",
    "    \n",
    "    while ordering:\n",
    "        cust_actions()\n",
    "        response = input(\"Please enter the desired option: \")\n",
    "        if response == \"1\": # Add item to the cart\n",
    "            display_menu()\n",
    "            sku_prompt = \"Please enter the meal number from the menu item you want to order: \"\n",
    "            quantity_prompt = \"Please enter the quantity for the menu item you want to order [Defaualt 1]: \"\n",
    "            sku, quantity = get_sku_and_quantity(sku_prompt, quantity_prompt)\n",
    "            add_to_cart(sku, quantity)\n",
    "        elif response == \"2\": # Remove from the cart\n",
    "            display_menu()\n",
    "            sku_prompt = \"Please enter the meal number from the menu item you want to remove: \"\n",
    "        \n",
    "            sku = get_sku_and_quantity(sku_prompt) \n",
    "            remove_from_cart(sku)\n",
    "            \n",
    "        elif response == \"3\": # Modify the cart\n",
    "            display_menu()\n",
    "            sku_prompt = \"Please enter the meal number from the menu item you want to modify: \"\n",
    "            quantity_prompt = \"Please enter the quantity for the menu item you want to order [Defaualt 1]: \" \n",
    "            sku, quantity = get_sku_and_quantity(sku_prompt) \n",
    "            modify_cart(sku, quantity)"
   ]
  },
  {
   "cell_type": "code",
   "execution_count": 117,
   "metadata": {},
   "outputs": [
    {
     "data": {
      "text/plain": [
       "{'SKU10': 1}"
      ]
     },
     "execution_count": 117,
     "metadata": {},
     "output_type": "execute_result"
    }
   ],
   "source": [
    "cart"
   ]
  },
  {
   "cell_type": "code",
   "execution_count": 118,
   "metadata": {},
   "outputs": [],
   "source": [
    "def order():\n",
    "    \"\"\"\n",
    "    It will take order from the customers\n",
    "    \"\"\"\n",
    "    \n",
    "    print(f\"Welcome to the {rest_name}!\")\n",
    "    \n",
    "    ordering = True\n",
    "    \n",
    "    while ordering:\n",
    "        cust_actions()\n",
    "        response = input(\"Please enter the desired option: \")\n",
    "        if response == \"1\": # Add item to the cart\n",
    "            display_menu()\n",
    "            sku_prompt = \"Please enter the meal number from the menu item you want to order: \"\n",
    "            quantity_prompt = \"Please enter the quantity for the menu item you want to order [Defaualt 1]: \"\n",
    "            sku, quantity = get_sku_and_quantity(sku_prompt, quantity_prompt)\n",
    "            print()\n",
    "            add_to_cart(sku, quantity)\n",
    "            \n",
    "        elif response == \"2\": # Remove from the cart\n",
    "            display_menu()\n",
    "            sku_prompt = \"Please enter the meal number from the menu item you want to remove: \"\n",
    "        \n",
    "            sku = get_sku_and_quantity(sku_prompt) \n",
    "            print()\n",
    "            remove_from_cart(sku)\n",
    "            \n",
    "        elif response == \"3\": # Modify the cart\n",
    "            display_menu()\n",
    "            sku_prompt = \"Please enter the meal number from the menu item you want to modify: \"\n",
    "            quantity_prompt = \"Please enter the quantity for the menu item you want to order [Defaualt 1]: \" \n",
    "            sku, quantity = get_sku_and_quantity(sku_prompt, quantity_prompt) \n",
    "            print()\n",
    "            modify_cart(sku, quantity)\n",
    "            \n",
    "        elif response == \"4\": # View cart\n",
    "            view_cart()\n",
    "        \n",
    "        elif response == \"5\": # Checkout\n",
    "            checkout()\n",
    "            ordering = False # breaking while loop\n",
    "            \n",
    "        elif response == \"6\": # Exit\n",
    "            print(\"Thanks for coming!\")\n",
    "            ordering = False # breaking while loop\n",
    "        else:\n",
    "            print(\"Sorry you have entered the invalid option. Please try again!\")"
   ]
  },
  {
   "cell_type": "code",
   "execution_count": 119,
   "metadata": {},
   "outputs": [
    {
     "data": {
      "text/plain": [
       "{'SKU10': 1}"
      ]
     },
     "execution_count": 119,
     "metadata": {},
     "output_type": "execute_result"
    }
   ],
   "source": [
    "cart"
   ]
  },
  {
   "cell_type": "code",
   "execution_count": 120,
   "metadata": {},
   "outputs": [
    {
     "data": {
      "text/plain": [
       "['__class__',\n",
       " '__class_getitem__',\n",
       " '__contains__',\n",
       " '__delattr__',\n",
       " '__delitem__',\n",
       " '__dir__',\n",
       " '__doc__',\n",
       " '__eq__',\n",
       " '__format__',\n",
       " '__ge__',\n",
       " '__getattribute__',\n",
       " '__getitem__',\n",
       " '__getstate__',\n",
       " '__gt__',\n",
       " '__hash__',\n",
       " '__init__',\n",
       " '__init_subclass__',\n",
       " '__ior__',\n",
       " '__iter__',\n",
       " '__le__',\n",
       " '__len__',\n",
       " '__lt__',\n",
       " '__ne__',\n",
       " '__new__',\n",
       " '__or__',\n",
       " '__reduce__',\n",
       " '__reduce_ex__',\n",
       " '__repr__',\n",
       " '__reversed__',\n",
       " '__ror__',\n",
       " '__setattr__',\n",
       " '__setitem__',\n",
       " '__sizeof__',\n",
       " '__str__',\n",
       " '__subclasshook__',\n",
       " 'clear',\n",
       " 'copy',\n",
       " 'fromkeys',\n",
       " 'get',\n",
       " 'items',\n",
       " 'keys',\n",
       " 'pop',\n",
       " 'popitem',\n",
       " 'setdefault',\n",
       " 'update',\n",
       " 'values']"
      ]
     },
     "execution_count": 120,
     "metadata": {},
     "output_type": "execute_result"
    }
   ],
   "source": [
    "dir(cart)"
   ]
  },
  {
   "cell_type": "code",
   "execution_count": 121,
   "metadata": {},
   "outputs": [],
   "source": [
    "cart.clear()"
   ]
  },
  {
   "cell_type": "code",
   "execution_count": 122,
   "metadata": {},
   "outputs": [
    {
     "data": {
      "text/plain": [
       "{}"
      ]
     },
     "execution_count": 122,
     "metadata": {},
     "output_type": "execute_result"
    }
   ],
   "source": [
    "cart"
   ]
  },
  {
   "cell_type": "code",
   "execution_count": 123,
   "metadata": {},
   "outputs": [
    {
     "name": "stdout",
     "output_type": "stream",
     "text": [
      "Welcome to the Buddies Inn!\n",
      "\n",
      "***Please Choose your option***\n",
      "\n",
      "(1) Add item to the cart\n",
      "(2) Remove item from the cart\n",
      "(3) Modify item's quantity in the cart\n",
      "(4) View items in the cart\n",
      "(5) Checkout\n",
      "(6) Exit\n",
      "\n",
      "***Buddies Inn's Menu***\n",
      "\n",
      "(1) Burger $5.99\n",
      "(2) Pizza $8.99\n",
      "(3) Pasta $7.49\n",
      "(4) Salad $4.99\n",
      "(5) Steak $12.99\n",
      "(6) Sushi $10.49\n",
      "(7) Chicken Wings $6.99\n",
      "(8) Sandwich $4.49\n",
      "(9) Tacos $5.49\n",
      "(10) Ice Cream $3.99\n",
      "\n",
      "\n",
      "\n",
      "Added 1 Steak in your cart\n",
      "\n",
      "***Please Choose your option***\n",
      "\n",
      "(1) Add item to the cart\n",
      "(2) Remove item from the cart\n",
      "(3) Modify item's quantity in the cart\n",
      "(4) View items in the cart\n",
      "(5) Checkout\n",
      "(6) Exit\n",
      "\n",
      "***Checkout***\n",
      "\n",
      "\n",
      "***Your Order***\n",
      "\n",
      "1 x Steak\n",
      "Total: $ 13.90\n",
      "\n",
      "\n",
      "Thank you for the order! Goodbye!\n",
      "\n",
      "\n"
     ]
    }
   ],
   "source": [
    "order()"
   ]
  },
  {
   "cell_type": "code",
   "execution_count": 124,
   "metadata": {},
   "outputs": [
    {
     "name": "stdout",
     "output_type": "stream",
     "text": [
      "Welcome to the Buddies Inn!\n",
      "\n",
      "***Please Choose your option***\n",
      "\n",
      "(1) Add item to the cart\n",
      "(2) Remove item from the cart\n",
      "(3) Modify item's quantity in the cart\n",
      "(4) View items in the cart\n",
      "(5) Checkout\n",
      "(6) Exit\n",
      "\n",
      "***Buddies Inn's Menu***\n",
      "\n",
      "(1) Burger $5.99\n",
      "(2) Pizza $8.99\n",
      "(3) Pasta $7.49\n",
      "(4) Salad $4.99\n",
      "(5) Steak $12.99\n",
      "(6) Sushi $10.49\n",
      "(7) Chicken Wings $6.99\n",
      "(8) Sandwich $4.49\n",
      "(9) Tacos $5.49\n",
      "(10) Ice Cream $3.99\n",
      "\n",
      "\n",
      "\n",
      "Sorry! This item is not available in the cart\n",
      "\n",
      "***Please Choose your option***\n",
      "\n",
      "(1) Add item to the cart\n",
      "(2) Remove item from the cart\n",
      "(3) Modify item's quantity in the cart\n",
      "(4) View items in the cart\n",
      "(5) Checkout\n",
      "(6) Exit\n",
      "\n",
      "***Buddies Inn's Menu***\n",
      "\n",
      "(1) Burger $5.99\n",
      "(2) Pizza $8.99\n",
      "(3) Pasta $7.49\n",
      "(4) Salad $4.99\n",
      "(5) Steak $12.99\n",
      "(6) Sushi $10.49\n",
      "(7) Chicken Wings $6.99\n",
      "(8) Sandwich $4.49\n",
      "(9) Tacos $5.49\n",
      "(10) Ice Cream $3.99\n",
      "\n",
      "\n",
      "\n",
      "Sorry! This item is not available in the cart\n",
      "\n",
      "***Please Choose your option***\n",
      "\n",
      "(1) Add item to the cart\n",
      "(2) Remove item from the cart\n",
      "(3) Modify item's quantity in the cart\n",
      "(4) View items in the cart\n",
      "(5) Checkout\n",
      "(6) Exit\n",
      "\n",
      "***Your Order***\n",
      "\n",
      "1 x Steak\n",
      "Total: $ 13.90\n",
      "\n",
      "\n",
      "\n",
      "***Please Choose your option***\n",
      "\n",
      "(1) Add item to the cart\n",
      "(2) Remove item from the cart\n",
      "(3) Modify item's quantity in the cart\n",
      "(4) View items in the cart\n",
      "(5) Checkout\n",
      "(6) Exit\n",
      "\n",
      "***Your Order***\n",
      "\n",
      "1 x Steak\n",
      "Total: $ 13.90\n",
      "\n",
      "\n",
      "\n",
      "***Please Choose your option***\n",
      "\n",
      "(1) Add item to the cart\n",
      "(2) Remove item from the cart\n",
      "(3) Modify item's quantity in the cart\n",
      "(4) View items in the cart\n",
      "(5) Checkout\n",
      "(6) Exit\n",
      "\n",
      "***Your Order***\n",
      "\n",
      "1 x Steak\n",
      "Total: $ 13.90\n",
      "\n",
      "\n",
      "\n",
      "***Please Choose your option***\n",
      "\n",
      "(1) Add item to the cart\n",
      "(2) Remove item from the cart\n",
      "(3) Modify item's quantity in the cart\n",
      "(4) View items in the cart\n",
      "(5) Checkout\n",
      "(6) Exit\n",
      "\n",
      "***Your Order***\n",
      "\n",
      "1 x Steak\n",
      "Total: $ 13.90\n",
      "\n",
      "\n",
      "\n",
      "***Please Choose your option***\n",
      "\n",
      "(1) Add item to the cart\n",
      "(2) Remove item from the cart\n",
      "(3) Modify item's quantity in the cart\n",
      "(4) View items in the cart\n",
      "(5) Checkout\n",
      "(6) Exit\n",
      "Thanks for coming!\n"
     ]
    }
   ],
   "source": [
    "order()"
   ]
  },
  {
   "cell_type": "code",
   "execution_count": 125,
   "metadata": {},
   "outputs": [
    {
     "name": "stdout",
     "output_type": "stream",
     "text": [
      "Welcome to the Buddies Inn!\n",
      "\n",
      "***Please Choose your option***\n",
      "\n",
      "(1) Add item to the cart\n",
      "(2) Remove item from the cart\n",
      "(3) Modify item's quantity in the cart\n",
      "(4) View items in the cart\n",
      "(5) Checkout\n",
      "(6) Exit\n",
      "\n",
      "***Checkout***\n",
      "\n",
      "\n",
      "***Your Order***\n",
      "\n",
      "1 x Steak\n",
      "Total: $ 13.90\n",
      "\n",
      "\n",
      "Thank you for the order! Goodbye!\n",
      "\n",
      "\n"
     ]
    }
   ],
   "source": [
    "order()"
   ]
  },
  {
   "cell_type": "code",
   "execution_count": 126,
   "metadata": {},
   "outputs": [
    {
     "name": "stdout",
     "output_type": "stream",
     "text": [
      "Welcome to the Buddies Inn!\n",
      "\n",
      "***Please Choose your option***\n",
      "\n",
      "(1) Add item to the cart\n",
      "(2) Remove item from the cart\n",
      "(3) Modify item's quantity in the cart\n",
      "(4) View items in the cart\n",
      "(5) Checkout\n",
      "(6) Exit\n",
      "Thanks for coming!\n"
     ]
    }
   ],
   "source": [
    "order()"
   ]
  },
  {
   "cell_type": "code",
   "execution_count": null,
   "metadata": {},
   "outputs": [],
   "source": []
  }
 ],
 "metadata": {
  "kernelspec": {
   "display_name": "base",
   "language": "python",
   "name": "python3"
  },
  "language_info": {
   "codemirror_mode": {
    "name": "ipython",
    "version": 3
   },
   "file_extension": ".py",
   "mimetype": "text/x-python",
   "name": "python",
   "nbconvert_exporter": "python",
   "pygments_lexer": "ipython3",
   "version": "3.11.5"
  }
 },
 "nbformat": 4,
 "nbformat_minor": 2
}
